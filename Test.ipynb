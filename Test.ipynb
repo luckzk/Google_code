{
  "nbformat": 4,
  "nbformat_minor": 0,
  "metadata": {
    "colab": {
      "name": "Test.ipynb",
      "version": "0.3.2",
      "provenance": [],
      "collapsed_sections": [],
      "include_colab_link": true
    },
    "kernelspec": {
      "name": "python2",
      "display_name": "Python 2"
    }
  },
  "cells": [
    {
      "cell_type": "markdown",
      "metadata": {
        "id": "view-in-github",
        "colab_type": "text"
      },
      "source": [
        "<a href=\"https://colab.research.google.com/github/luckzk/Google_code/blob/master/Test.ipynb\" target=\"_parent\"><img src=\"https://colab.research.google.com/assets/colab-badge.svg\" alt=\"Open In Colab\"/></a>"
      ]
    },
    {
      "metadata": {
        "id": "JPvmg9cqj4ti",
        "colab_type": "code",
        "outputId": "39e2b54e-e524-4429-b648-ccb8420e608f",
        "colab": {
          "base_uri": "https://localhost:8080/",
          "height": 51
        }
      },
      "cell_type": "code",
      "source": [
        "import bs4\n",
        "print \"hello google\"\n",
        "import os \n",
        "os.getcwd()"
      ],
      "execution_count": 1,
      "outputs": [
        {
          "output_type": "stream",
          "text": [
            "hello google\n"
          ],
          "name": "stdout"
        },
        {
          "output_type": "execute_result",
          "data": {
            "text/plain": [
              "'/content'"
            ]
          },
          "metadata": {
            "tags": []
          },
          "execution_count": 1
        }
      ]
    },
    {
      "metadata": {
        "id": "L2uXd530YecS",
        "colab_type": "code",
        "colab": {
          "base_uri": "https://localhost:8080/",
          "height": 34
        },
        "outputId": "b0c3498e-ab8d-4eaa-98e7-d3d2da3ed9e5"
      },
      "cell_type": "code",
      "source": [
        "import time\n",
        "from tqdm import tqdm\n",
        "with tqdm(total=100) as pbar:\n",
        "    for i in range(10): \n",
        "        pbar.update(1)  \n",
        "        time.sleep(0.5)"
      ],
      "execution_count": 2,
      "outputs": [
        {
          "output_type": "stream",
          "text": [
            " 10%|█         | 10/100 [00:04<00:43,  2.05it/s]\n"
          ],
          "name": "stderr"
        }
      ]
    },
    {
      "metadata": {
        "id": "gJU1W3BTk-yj",
        "colab_type": "code",
        "colab": {
          "base_uri": "https://localhost:8080/",
          "height": 34
        },
        "outputId": "6efd2193-b5af-41c2-821b-fe99e2c54a23"
      },
      "cell_type": "code",
      "source": [
        "from tqdm import tqdm\n",
        "with tqdm(total=100) as pbar:\n",
        "    for i in range(10): \n",
        "        pbar.update(1)  \n",
        "        time.sleep(0.5)"
      ],
      "execution_count": 3,
      "outputs": [
        {
          "output_type": "stream",
          "text": [
            " 10%|█         | 10/100 [00:04<00:43,  2.05it/s]\n"
          ],
          "name": "stderr"
        }
      ]
    },
    {
      "metadata": {
        "id": "ihErlxAxhhn1",
        "colab_type": "code",
        "colab": {
          "base_uri": "https://localhost:8080/",
          "height": 34
        },
        "outputId": "800ebc3d-c6f5-4614-e635-fcc2409a5fc8"
      },
      "cell_type": "code",
      "source": [
        "import time \n",
        "\n",
        "pbar = tqdm(total=100)\n",
        "for i in range(100):\n",
        "    pbar.update(1)\n",
        "    time.sleep(0.5)\n",
        "pbar.close()"
      ],
      "execution_count": 4,
      "outputs": [
        {
          "output_type": "stream",
          "text": [
            "100%|██████████| 100/100 [00:49<00:00,  1.99it/s]\n"
          ],
          "name": "stderr"
        }
      ]
    },
    {
      "metadata": {
        "id": "thniy_OHlQ82",
        "colab_type": "code",
        "colab": {
          "base_uri": "https://localhost:8080/",
          "height": 34
        },
        "outputId": "36af5959-fedd-4e1d-f2d8-10481650ff95"
      },
      "cell_type": "code",
      "source": [
        "# -*- coding: UTF-8 -*-\n",
        "pbar = tqdm(['a', 'b', 'c', 'd', 'e'])\n",
        "\n",
        "for char in pbar:\n",
        "    pbar.set_description(\"start {}\".format(char))\n",
        "    time.sleep(0.5)"
      ],
      "execution_count": 7,
      "outputs": [
        {
          "output_type": "stream",
          "text": [
            "start e: 100%|██████████| 5/5 [00:02<00:00,  1.96it/s]\n"
          ],
          "name": "stderr"
        }
      ]
    }
  ]
}